{
 "cells": [
  {
   "cell_type": "code",
   "execution_count": null,
   "id": "cda28c2e-7529-4eb0-8d8e-76861ea50e53",
   "metadata": {},
   "outputs": [],
   "source": [
    "## BEGIN OF TARGET CONFIGURATION\n",
    "\n",
    "PORT = 16384\n",
    "IPADDR = '10.3.0.12'\n",
    "DESTINATIONS = ['10.2.0.40']\n",
    "REPEAT_WAIT_SEC = 20\n",
    "REPETITION = 3\n",
    "\n",
    "### END OF TARGET_CONFIGURATION\n",
    "\n",
    "import sys\n",
    "import os\n",
    "import pathlib\n",
    "import math\n",
    "import argparse\n",
    "import datetime\n",
    "import numpy as np\n",
    "\n",
    "from e7awgsw import CaptureModule, AWG, AwgCtrl, CaptureCtrl, WaveSequence, CaptureParam, plot_graph\n",
    "from e7awgsw.labrad import RemoteAwgCtrl, RemoteCaptureCtrl\n",
    "\n",
    "\n",
    "d = {\n",
    "    'PATH_TO_QUBEMASTER': '{}/qube_master/software'.format(os.getcwd()),\n",
    "}\n",
    "for k, p in d.items():\n",
    "    if not p in sys.path:\n",
    "        sys.path.insert(1, p)\n",
    "\n",
    "import qubemasterclient\n",
    "import sequencerclient\n",
    "\n",
    "repeat_wait_sec = REPEAT_WAIT_SEC * 125000000 # 125Mcycls = 1sec\n",
    "\n",
    "client = qubemasterclient.QuBEMasterClient(IPADDR, PORT)\n",
    "print('clear')\n",
    "r, a = client.clear_clock(value=0)\n",
    "print('kick')\n",
    "r, a = client.kick_clock_synch(DESTINATIONS)\n",
    "\n",
    "print('read')\n",
    "cur_time = client.read_clock(value=0)\n",
    "print('read result', cur_time, 'cycles')\n",
    "\n",
    "for i in range(REPETITION):\n",
    "    cur_time += repeat_wait_sec\n",
    "    print('run @', cur_time)\n",
    "    for a in DESTINATIONS:\n",
    "        client = sequencerclient.SequencerClient(a, PORT)\n",
    "        r, a = client.add_sequencer(cur_time) # make registration\n"
   ]
  },
  {
   "cell_type": "code",
   "execution_count": null,
   "id": "93d554c1-214a-49c2-a1eb-c60f802d2d3d",
   "metadata": {},
   "outputs": [],
   "source": []
  }
 ],
 "metadata": {
  "kernelspec": {
   "display_name": "Python 3 (ipykernel)",
   "language": "python",
   "name": "python3"
  },
  "language_info": {
   "codemirror_mode": {
    "name": "ipython",
    "version": 3
   },
   "file_extension": ".py",
   "mimetype": "text/x-python",
   "name": "python",
   "nbconvert_exporter": "python",
   "pygments_lexer": "ipython3",
   "version": "3.9.10"
  }
 },
 "nbformat": 4,
 "nbformat_minor": 5
}
